{
 "cells": [
  {
   "cell_type": "code",
   "execution_count": 74,
   "metadata": {},
   "outputs": [],
   "source": [
    "# Import Libraries\n",
    "\n",
    "import os\n",
    "import pandas as pd\n",
    "import requests as req\n",
    "from splinter import Browser\n",
    "from bs4 import BeautifulSoup as bs\n",
    "import time\n",
    "# from selenium import webdriver  \n",
    "from lxml import html"
   ]
  },
  {
   "cell_type": "markdown",
   "metadata": {},
   "source": [
    "## Getting news from https://mars.nasa.gov/news/ web page"
   ]
  },
  {
   "cell_type": "code",
   "execution_count": 79,
   "metadata": {},
   "outputs": [],
   "source": [
    "# Chromedriver execution\n",
    "\n",
    "executable_path = {'executable_path': '/usr/local/bin/chromedriver'}\n",
    "browser = Browser('chrome', **executable_path, headless=True)\n",
    "\n",
    "# URL path\n",
    "url1=\"https://mars.nasa.gov/news/\"\n",
    "browser.visit(url1)\n",
    "# Save html and parser\n",
    "html=browser.html\n",
    "soup = bs(html, \"html.parser\")"
   ]
  },
  {
   "cell_type": "code",
   "execution_count": 80,
   "metadata": {},
   "outputs": [
    {
     "name": "stdout",
     "output_type": "stream",
     "text": [
      "October 27, 2020\n",
      "NASA's Perseverance Rover Is Midway to Mars \n",
      "Sometimes half measures can be a good thing – especially on a journey this long. The agency's latest rover only has about 146 million miles left to reach its destination.\n"
     ]
    }
   ],
   "source": [
    "# Printing\n",
    "news_date = soup.find('li', class_='slide').find('div', class_=\"list_date\").text\n",
    "print(news_date)\n",
    "news_title = soup.find('div',class_=\"list_text\").find('div', class_=\"content_title\").text\n",
    "print(news_title)\n",
    "news_text = soup.find('div',class_=\"list_text\").find('div',class_=\"article_teaser_body\").text\n",
    "print(news_text)"
   ]
  },
  {
   "cell_type": "markdown",
   "metadata": {},
   "source": [
    "## Getting featured image from https://www.jpl.nasa.gov/spaceimages/ web page"
   ]
  },
  {
   "cell_type": "code",
   "execution_count": 81,
   "metadata": {},
   "outputs": [
    {
     "name": "stdout",
     "output_type": "stream",
     "text": [
      "https://www.jpl.nasa.gov/spaceimages/images/largesize/PIA16715_hires.jpg\n"
     ]
    }
   ],
   "source": [
    "# URL path\n",
    "url2 = \"https://www.jpl.nasa.gov/spaceimages/\"\n",
    "# Visiting url2 to click and response\n",
    "browser.visit(url2)\n",
    "browser.find_by_id('full_image').click()\n",
    "time.sleep(3)\n",
    "\n",
    "# Clicking on more info button\n",
    "browser.links.find_by_partial_text('more info').click()\n",
    "\n",
    "# Getting mage URL\n",
    "featured_image_url = browser.find_by_xpath(\"//img[@class='main_image']\")._element.get_attribute(\"src\")\n",
    "\n",
    "print(featured_image_url)"
   ]
  },
  {
   "cell_type": "code",
   "execution_count": null,
   "metadata": {},
   "outputs": [],
   "source": []
  }
 ],
 "metadata": {
  "kernelspec": {
   "display_name": "Python 3",
   "language": "python",
   "name": "python3"
  },
  "language_info": {
   "codemirror_mode": {
    "name": "ipython",
    "version": 3
   },
   "file_extension": ".py",
   "mimetype": "text/x-python",
   "name": "python",
   "nbconvert_exporter": "python",
   "pygments_lexer": "ipython3",
   "version": "3.8.3"
  }
 },
 "nbformat": 4,
 "nbformat_minor": 4
}
